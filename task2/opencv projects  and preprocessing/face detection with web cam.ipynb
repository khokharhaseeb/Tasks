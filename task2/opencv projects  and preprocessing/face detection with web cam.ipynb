{
 "cells": [
  {
   "cell_type": "code",
   "execution_count": 30,
   "id": "1be60911",
   "metadata": {},
   "outputs": [],
   "source": [
    "import numpy as np\n",
    "import cv2"
   ]
  },
  {
   "cell_type": "code",
   "execution_count": 31,
   "id": "671ba904",
   "metadata": {},
   "outputs": [],
   "source": [
    "cap = cv2.VideoCapture(0)"
   ]
  },
  {
   "cell_type": "code",
   "execution_count": 32,
   "id": "6a8057b9",
   "metadata": {},
   "outputs": [],
   "source": [
    "face_c = cv2.CascadeClassifier('h.xml')\n"
   ]
  },
  {
   "cell_type": "code",
   "execution_count": 33,
   "id": "fee207c4",
   "metadata": {},
   "outputs": [
    {
     "name": "stdout",
     "output_type": "stream",
     "text": [
      "253 187 199 187\n",
      "258 182 202 182\n",
      "256 184 203 184\n",
      "256 182 205 182\n",
      "253 186 200 186\n",
      "247 179 207 179\n",
      "244 176 212 176\n",
      "237 181 218 181\n",
      "233 189 217 189\n",
      "232 183 221 183\n",
      "235 180 222 180\n",
      "236 180 221 180\n",
      "234 185 219 185\n",
      "233 188 216 188\n",
      "234 188 215 188\n",
      "236 189 213 189\n",
      "237 195 209 195\n",
      "242 188 210 188\n",
      "256 186 210 186\n",
      "259 195 202 195\n",
      "269 195 196 195\n",
      "278 190 195 190\n",
      "281 189 190 189\n",
      "276 194 186 194\n",
      "278 194 186 194\n",
      "274 188 193 188\n",
      "268 197 189 197\n",
      "272 188 193 188\n",
      "269 191 188 191\n",
      "270 188 189 188\n",
      "268 188 190 188\n",
      "268 187 194 187\n",
      "260 198 190 198\n",
      "263 194 192 194\n",
      "263 195 191 195\n",
      "265 191 191 191\n",
      "263 193 191 193\n",
      "263 193 191 193\n",
      "262 191 192 191\n",
      "266 184 195 184\n",
      "264 190 194 190\n",
      "263 193 193 193\n",
      "262 196 190 196\n",
      "262 195 190 195\n",
      "264 193 193 193\n",
      "264 194 192 194\n",
      "262 195 192 195\n",
      "265 194 192 194\n",
      "267 197 190 197\n",
      "265 198 193 198\n",
      "265 198 193 198\n",
      "277 189 197 189\n",
      "275 192 197 192\n",
      "274 193 196 193\n",
      "270 198 194 198\n",
      "277 187 199 187\n",
      "274 190 197 190\n",
      "270 199 195 199\n"
     ]
    }
   ],
   "source": [
    "while True:\n",
    "    ret,fram=cap.read()\n",
    "    f = cv2.cvtColor(fram,cv2.COLOR_BGR2GRAY)\n",
    "    if ret == 0:\n",
    "        break\n",
    "    box,det = face_c.detectMultiScale2(f)\n",
    "    for x,y,w,h in box:\n",
    "        cv2.rectangle(f,(x,y),(x+w,y+h),(0,255,0),1)\n",
    "#         print('y',det)\n",
    "#     print(det)\n",
    "    x1 = box[0][0]\n",
    "    x2 = box[0][2]\n",
    "    y1 = box[0][1]\n",
    "    y2 = box[0][3]\n",
    "    print(x1,x2,y1,y2)\n",
    "    cv2.imshow('vid',f)\n",
    "    if cv2.waitKey(1)==ord('q'):\n",
    "        break\n",
    "cap.release()\n",
    "cv2.destroyAllWindows()"
   ]
  },
  {
   "cell_type": "code",
   "execution_count": null,
   "id": "7f969883",
   "metadata": {},
   "outputs": [],
   "source": [
    "import numpy as np\n",
    "import cv2\n",
    "cap = cv2.VideoCapture(0)\n",
    "face_c = cv2.CascadeClassifier('h.xml')\n",
    "while True:\n",
    "    ret,fram=cap.read()\n",
    "    f = cv2.cvtColor(fram,cv2.COLOR_BGR2GRAY)\n",
    "    if ret == 0:\n",
    "        break\n",
    "    box,det = face_c.detectMultiScale2(f)\n",
    "    for x,y,w,h in box:\n",
    "        cv2.rectangle(f,(x,y),(x+w,y+h),(0,255,0),1)\n",
    "    cv2.imshow('vid',f)\n",
    "    if cv2.waitKey(1)==ord('q'):\n",
    "        break\n",
    "cap.release()\n",
    "cv2.destroyAllWindows()\n"
   ]
  },
  {
   "cell_type": "code",
   "execution_count": 12,
   "id": "b70e6038",
   "metadata": {},
   "outputs": [],
   "source": [
    "a = 'f'\n",
    "dic = {\n",
    "    'Name':'q',\n",
    "     a:'x',\n",
    "    'Gender':'d',\n",
    "    'Country of Stay':'Pakistan',\n",
    "    'Identity Number':'2-2',\n",
    "    'Date of Birth':'sf',\n",
    "    'Date of Issue':'sdf-sdf',\n",
    "    'Date of Expiry':'sdfsdf'\n",
    "   \n",
    "}"
   ]
  },
  {
   "cell_type": "code",
   "execution_count": 14,
   "id": "c824715e",
   "metadata": {},
   "outputs": [
    {
     "data": {
      "text/plain": [
       "{'fathername': 'x'}"
      ]
     },
     "execution_count": 14,
     "metadata": {},
     "output_type": "execute_result"
    }
   ],
   "source": [
    "a = 'fathername'\n",
    "dic = {\n",
    "    \n",
    "     a:'x',\n",
    "   \n",
    "}\n",
    "dic"
   ]
  },
  {
   "cell_type": "code",
   "execution_count": null,
   "id": "ff7d23eb",
   "metadata": {},
   "outputs": [],
   "source": []
  }
 ],
 "metadata": {
  "kernelspec": {
   "display_name": "Python 3",
   "language": "python",
   "name": "python3"
  },
  "language_info": {
   "codemirror_mode": {
    "name": "ipython",
    "version": 3
   },
   "file_extension": ".py",
   "mimetype": "text/x-python",
   "name": "python",
   "nbconvert_exporter": "python",
   "pygments_lexer": "ipython3",
   "version": "3.8.8"
  }
 },
 "nbformat": 4,
 "nbformat_minor": 5
}
