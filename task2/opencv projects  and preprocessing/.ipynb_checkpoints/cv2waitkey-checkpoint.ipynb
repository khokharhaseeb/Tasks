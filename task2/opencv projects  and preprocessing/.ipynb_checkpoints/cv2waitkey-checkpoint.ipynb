{
 "cells": [
  {
   "cell_type": "code",
   "execution_count": 80,
   "id": "d7096c64",
   "metadata": {},
   "outputs": [],
   "source": [
    "import cv2\n",
    "import numpy as np"
   ]
  },
  {
   "cell_type": "code",
   "execution_count": 81,
   "id": "c5981b0f",
   "metadata": {},
   "outputs": [],
   "source": [
    "img=np.zeros((100,100,3),np.uint8)\n"
   ]
  },
  {
   "cell_type": "code",
   "execution_count": 82,
   "id": "c75dfb4a",
   "metadata": {},
   "outputs": [],
   "source": [
    "def display(*img):\n",
    "    for i,im in enumerate(img):\n",
    "        cv2.imshow(str(i),im)\n",
    "        cv2.waitKey(0)\n",
    "    cv2.destroyAllWindows()\n",
    "    "
   ]
  },
  {
   "cell_type": "code",
   "execution_count": 83,
   "id": "6952b4b1",
   "metadata": {},
   "outputs": [],
   "source": [
    "display(img)"
   ]
  },
  {
   "cell_type": "code",
   "execution_count": 94,
   "id": "79c9a960",
   "metadata": {},
   "outputs": [],
   "source": []
  },
  {
   "cell_type": "code",
   "execution_count": 95,
   "id": "9902a886",
   "metadata": {},
   "outputs": [],
   "source": []
  },
  {
   "cell_type": "code",
   "execution_count": 96,
   "id": "b136ce5a",
   "metadata": {},
   "outputs": [],
   "source": [
    "def display(img):\n",
    "    cv2.imshow('',img)\n",
    "    cv2.waitKey(0)\n",
    "    cv2.destroyAllWindows()"
   ]
  },
  {
   "cell_type": "code",
   "execution_count": 97,
   "id": "9c277341",
   "metadata": {},
   "outputs": [],
   "source": [
    "display(img)"
   ]
  },
  {
   "cell_type": "code",
   "execution_count": 120,
   "id": "9547e5b3",
   "metadata": {},
   "outputs": [],
   "source": []
  },
  {
   "cell_type": "code",
   "execution_count": 123,
   "id": "d56a6082",
   "metadata": {},
   "outputs": [],
   "source": [
    "# mblur1 = cv2.medianBlur(gray,3)?\n",
    "k('./download.jfif',(5,5),0.5)"
   ]
  },
  {
   "cell_type": "code",
   "execution_count": 124,
   "id": "af446af6",
   "metadata": {},
   "outputs": [],
   "source": [
    "# a = img/dst\n",
    "def k(img,ksize):\n",
    "    cv2.WINDOW_NORMAL('yup')\n",
    "    gama = cv2.createTrackbar('gamma_value','yup',0.01,0.9,lambda x:x)\n",
    "    a = cv2.getTrackbarPos('gamma_value','yup')\n",
    "    img = cv2.imread(img)\n",
    "    gray = cv2.cvtColor(img,cv2.COLOR_BGR2GRAY)\n",
    "    blur = cv2.GaussianBlur(gray,ksize,cv2.BORDER_DEFAULT)\n",
    "    divide = cv2.divide(gray,blur,scale = 256)\n",
    "    if gama < 0:\n",
    "        raise 'gamma value cannot be less than 0'\n",
    "    if gama > 1:\n",
    "        raise 'gamma value cannot be greater than 1'\n",
    "    if gama == 0:\n",
    "        gama=0.01\n",
    "    invgama = 1/gama\n",
    "    lut = np.array([(((i/255)**invgama)*255) for i in range(0,256)])\n",
    "\n",
    "    a = cv2.LUT(divide.astype(np.uint8),lut.astype(np.uint8))\n",
    "    display(a)\n",
    "\n"
   ]
  },
  {
   "cell_type": "code",
   "execution_count": 111,
   "id": "84a79b35",
   "metadata": {},
   "outputs": [],
   "source": [
    "display(divide)"
   ]
  },
  {
   "cell_type": "code",
   "execution_count": 101,
   "id": "addb41b8",
   "metadata": {},
   "outputs": [],
   "source": [
    "np.zeros((500,500,3),dtype = 'uint8')"
   ]
  },
  {
   "cell_type": "code",
   "execution_count": 107,
   "id": "7fe80606",
   "metadata": {},
   "outputs": [],
   "source": []
  },
  {
   "cell_type": "code",
   "execution_count": 108,
   "id": "f5cc49fe",
   "metadata": {},
   "outputs": [],
   "source": []
  },
  {
   "cell_type": "code",
   "execution_count": null,
   "id": "dc865b07",
   "metadata": {},
   "outputs": [],
   "source": []
  }
 ],
 "metadata": {
  "kernelspec": {
   "display_name": "Python 3",
   "language": "python",
   "name": "python3"
  },
  "language_info": {
   "codemirror_mode": {
    "name": "ipython",
    "version": 3
   },
   "file_extension": ".py",
   "mimetype": "text/x-python",
   "name": "python",
   "nbconvert_exporter": "python",
   "pygments_lexer": "ipython3",
   "version": "3.8.8"
  }
 },
 "nbformat": 4,
 "nbformat_minor": 5
}
