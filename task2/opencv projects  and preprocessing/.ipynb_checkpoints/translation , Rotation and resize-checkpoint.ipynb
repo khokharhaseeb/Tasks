{
 "cells": [
  {
   "cell_type": "code",
   "execution_count": 1,
   "id": "d2fc0ca6",
   "metadata": {},
   "outputs": [],
   "source": [
    "import cv2\n",
    "import numpy as np"
   ]
  },
  {
   "cell_type": "code",
   "execution_count": 2,
   "id": "0dd62c4e",
   "metadata": {},
   "outputs": [],
   "source": [
    "img = cv2.imread('./download.jfif')"
   ]
  },
  {
   "cell_type": "code",
   "execution_count": 25,
   "id": "8b25447f",
   "metadata": {},
   "outputs": [],
   "source": [
    "def trans(im,tx,ty):#tx is number of pixels to shift horizontally and ty is number of pixels to shift vertically\n",
    "    M = np.float32([[1,0,tx], #translational matrix of float because cv3 expects to be floating array,matrix\n",
    "                    [0,1,ty]])\n",
    "    shifted_image = cv2.warpAffine(im,M,(im.shape[1],im.shape[0]))\n",
    "    cv2.imshow('shifted_image',shifted_image)\n",
    "    cv2.waitKey(0)\n",
    "    cv2.destroyAllWindows() \n",
    "    \n",
    "trans(img,10,15)"
   ]
  },
  {
   "cell_type": "code",
   "execution_count": null,
   "id": "60b56cd9",
   "metadata": {},
   "outputs": [],
   "source": [
    "#Rotation"
   ]
  },
  {
   "cell_type": "code",
   "execution_count": 14,
   "id": "c3ad56b1",
   "metadata": {},
   "outputs": [],
   "source": [
    "def rotation(img,angle):\n",
    "    center = (img.shape[1]//2,img.shape[0]//2)\n",
    "    M = cv2.getRotationMatrix2D(center=center, angle=angle, scale=1)#scale is size of image you can change it value to change size\n",
    "    After_rotation = cv2.warpAffine(img,M,(img.shape[1],img.shape[0]))\n",
    "    cv2.imshow('after_rotation',After_rotation)\n",
    "    cv2.waitKey(0)\n",
    "    cv2.destroyAllWindows()\n",
    "rotation(img,-80)"
   ]
  },
  {
   "cell_type": "code",
   "execution_count": 24,
   "id": "895de399",
   "metadata": {},
   "outputs": [],
   "source": [
    "# Resize"
   ]
  },
  {
   "cell_type": "code",
   "execution_count": 11,
   "id": "cf191fee",
   "metadata": {},
   "outputs": [],
   "source": [
    "def resize(img,size):\n",
    "    new = cv2.resize(img,size,interpolation = cv2.INTER_AREA)\n",
    "    cv2.imshow('resized-Image',new)\n",
    "    cv2.waitKey(0)\n",
    "    cv2.destroyAllWindows() \n",
    "resize(img,(200,300))"
   ]
  },
  {
   "cell_type": "code",
   "execution_count": null,
   "id": "0fa9d9c2",
   "metadata": {},
   "outputs": [],
   "source": [
    "# Flipping"
   ]
  },
  {
   "cell_type": "code",
   "execution_count": null,
   "id": "285f1d79",
   "metadata": {},
   "outputs": [],
   "source": [
    "def fliping(img,flipcode):\n",
    "    after_rotation = cv2.flip(img,flipcode) #flip code canbe 1 , -1 , 0\n",
    "    cv2.imshow('after_rotation',after_rotation)\n",
    "    cv2.waitKey(0)\n",
    "    cv2.destroyAllWindows()\n",
    "fliping(img,1)"
   ]
  },
  {
   "cell_type": "code",
   "execution_count": null,
   "id": "60d86522",
   "metadata": {},
   "outputs": [],
   "source": [
    "# croping"
   ]
  },
  {
   "cell_type": "raw",
   "id": "bf1180a7",
   "metadata": {},
   "source": []
  },
  {
   "cell_type": "code",
   "execution_count": 11,
   "id": "6e576563",
   "metadata": {},
   "outputs": [
    {
     "name": "stdout",
     "output_type": "stream",
     "text": [
      "[[[249 241 228]\n",
      "  [247 238 229]\n",
      "  [247 238 229]\n",
      "  ...\n",
      "  [246 237 223]\n",
      "  [249 239 222]\n",
      "  [249 239 222]]\n",
      "\n",
      " [[248 240 227]\n",
      "  [246 237 228]\n",
      "  [246 237 228]\n",
      "  ...\n",
      "  [245 238 223]\n",
      "  [247 238 224]\n",
      "  [249 239 222]]\n",
      "\n",
      " [[248 240 227]\n",
      "  [245 236 227]\n",
      "  [245 236 227]\n",
      "  ...\n",
      "  [245 238 223]\n",
      "  [247 238 224]\n",
      "  [247 239 222]]\n",
      "\n",
      " ...\n",
      "\n",
      " [[247 242 233]\n",
      "  [243 240 236]\n",
      "  [235 233 232]\n",
      "  ...\n",
      "  [134 145 167]\n",
      "  [145 153 166]\n",
      "  [150 156 163]]\n",
      "\n",
      " [[251 249 241]\n",
      "  [231 236 239]\n",
      "  [224 232 239]\n",
      "  ...\n",
      "  [ 78  99 126]\n",
      "  [134 149 175]\n",
      "  [163 175 199]]\n",
      "\n",
      " [[238 238 232]\n",
      "  [246 254 255]\n",
      "  [177 189 201]\n",
      "  ...\n",
      "  [ 84 108 136]\n",
      "  [ 60  80 111]\n",
      "  [ 79  94 126]]]\n"
     ]
    }
   ],
   "source": [
    "def crop(img):\n",
    "    croped = img[20:50,15:50]\n",
    "    cv2.imshow('croped-Image',croped)\n",
    "    cv2.waitKey(0)\n",
    "    cv2.destroyAllWindows() \n",
    "crop(img)"
   ]
  },
  {
   "cell_type": "code",
   "execution_count": null,
   "id": "99b41eca",
   "metadata": {},
   "outputs": [],
   "source": []
  }
 ],
 "metadata": {
  "kernelspec": {
   "display_name": "Python 3",
   "language": "python",
   "name": "python3"
  },
  "language_info": {
   "codemirror_mode": {
    "name": "ipython",
    "version": 3
   },
   "file_extension": ".py",
   "mimetype": "text/x-python",
   "name": "python",
   "nbconvert_exporter": "python",
   "pygments_lexer": "ipython3",
   "version": "3.8.8"
  }
 },
 "nbformat": 4,
 "nbformat_minor": 5
}
