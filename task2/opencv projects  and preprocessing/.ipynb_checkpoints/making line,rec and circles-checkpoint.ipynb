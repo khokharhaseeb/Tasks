{
 "cells": [
  {
   "cell_type": "code",
   "execution_count": 1,
   "id": "62d46d86",
   "metadata": {},
   "outputs": [],
   "source": [
    "import cv2\n",
    "import numpy as np"
   ]
  },
  {
   "cell_type": "code",
   "execution_count": 26,
   "id": "1237a50f",
   "metadata": {},
   "outputs": [],
   "source": [
    "convas = np.zeros((300,300,3))"
   ]
  },
  {
   "cell_type": "code",
   "execution_count": 3,
   "id": "cf323100",
   "metadata": {},
   "outputs": [
    {
     "data": {
      "text/plain": [
       "-1"
      ]
     },
     "execution_count": 3,
     "metadata": {},
     "output_type": "execute_result"
    }
   ],
   "source": [
    "cv2.imshow('convas',convas)\n",
    "cv2.waitKey(0)"
   ]
  },
  {
   "cell_type": "code",
   "execution_count": 4,
   "id": "b96fb8ac",
   "metadata": {},
   "outputs": [],
   "source": [
    "point1 = (0,0)\n",
    "point2 = (300,300)\n",
    "green_color = (0,255,0)\n",
    "thickness = 5\n",
    "img = cv2.line(convas,point1,point2,green_color,thickness)"
   ]
  },
  {
   "cell_type": "code",
   "execution_count": 5,
   "id": "9bf46036",
   "metadata": {},
   "outputs": [
    {
     "data": {
      "text/plain": [
       "-1"
      ]
     },
     "execution_count": 5,
     "metadata": {},
     "output_type": "execute_result"
    }
   ],
   "source": [
    "cv2.imshow('img',img)\n",
    "cv2.waitKey(0)"
   ]
  },
  {
   "cell_type": "code",
   "execution_count": 6,
   "id": "cae906e7",
   "metadata": {},
   "outputs": [],
   "source": [
    "point1 = (100,100)\n",
    "point2 = (200,200)\n",
    "green_color = (0,255,0)\n",
    "thickness = 5\n",
    "img = cv2.rectangle(convas,(100,100),(200,200),(0,255,0),5)"
   ]
  },
  {
   "cell_type": "code",
   "execution_count": 7,
   "id": "14a7a2d4",
   "metadata": {},
   "outputs": [
    {
     "data": {
      "text/plain": [
       "-1"
      ]
     },
     "execution_count": 7,
     "metadata": {},
     "output_type": "execute_result"
    }
   ],
   "source": [
    "cv2.imshow('img',img)\n",
    "cv2.waitKey(0)"
   ]
  },
  {
   "cell_type": "code",
   "execution_count": 16,
   "id": "c15e6a47",
   "metadata": {},
   "outputs": [],
   "source": [
    "center_point = [150,150] # I can use it in list formate or either in tupple it will not effect my out put even for color\n",
    "radius = 80\n",
    "green_color = [0,255,0]\n",
    "red_color = [0,0,255]\n",
    "thickness = 10\n",
    "img = cv2.circle(convas,center_point,radius,red_color,thickness)"
   ]
  },
  {
   "cell_type": "code",
   "execution_count": 17,
   "id": "4f8b5b8f",
   "metadata": {},
   "outputs": [
    {
     "data": {
      "text/plain": [
       "-1"
      ]
     },
     "execution_count": 17,
     "metadata": {},
     "output_type": "execute_result"
    }
   ],
   "source": [
    "cv2.imshow('img',img)\n",
    "cv2.waitKey(0) "
   ]
  },
  {
   "cell_type": "code",
   "execution_count": 65,
   "id": "c02182d5",
   "metadata": {},
   "outputs": [],
   "source": [
    "convas = np.zeros((300,300,3))"
   ]
  },
  {
   "cell_type": "code",
   "execution_count": 66,
   "id": "7a5c5fff",
   "metadata": {},
   "outputs": [
    {
     "data": {
      "text/plain": [
       "-1"
      ]
     },
     "execution_count": 66,
     "metadata": {},
     "output_type": "execute_result"
    }
   ],
   "source": [
    "import matplotlib.pyplot as plt\n",
    "thickness = -1\n",
    "\n",
    "for i in range(0,25):\n",
    "    center_point = np.random.randint(0,300,(2,))\n",
    "    radius = np.random.randint(5,200)\n",
    "    green_color = np.random.randint(0,256,(3,)).tolist()\n",
    "    \n",
    "#     print(green_color)\n",
    "    cv2.circle(convas,tuple(center_point),radius,green_color,thickness)   \n",
    "\n",
    "# plt.imshow(convas)\n",
    "# display('convas',convas)\n",
    "cv2.imshow('yes',convas)\n",
    "cv2.waitKey(0) "
   ]
  },
  {
   "cell_type": "code",
   "execution_count": 40,
   "id": "e97b2f5e",
   "metadata": {},
   "outputs": [
    {
     "data": {
      "text/plain": [
       "-1"
      ]
     },
     "execution_count": 40,
     "metadata": {},
     "output_type": "execute_result"
    }
   ],
   "source": [
    "\n",
    "# np.zeros()"
   ]
  },
  {
   "cell_type": "code",
   "execution_count": 80,
   "id": "41165ffe",
   "metadata": {},
   "outputs": [],
   "source": [
    "# import matplotlib.pyplot as plt\n",
    "# plt.imshow(convas)"
   ]
  },
  {
   "cell_type": "code",
   "execution_count": null,
   "id": "657a2604",
   "metadata": {},
   "outputs": [],
   "source": []
  }
 ],
 "metadata": {
  "kernelspec": {
   "display_name": "Python 3",
   "language": "python",
   "name": "python3"
  },
  "language_info": {
   "codemirror_mode": {
    "name": "ipython",
    "version": 3
   },
   "file_extension": ".py",
   "mimetype": "text/x-python",
   "name": "python",
   "nbconvert_exporter": "python",
   "pygments_lexer": "ipython3",
   "version": "3.8.8"
  }
 },
 "nbformat": 4,
 "nbformat_minor": 5
}
