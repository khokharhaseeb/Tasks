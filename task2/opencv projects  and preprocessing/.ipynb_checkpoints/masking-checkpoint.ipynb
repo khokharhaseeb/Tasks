{
 "cells": [
  {
   "cell_type": "code",
   "execution_count": 1,
   "id": "718a54e1",
   "metadata": {},
   "outputs": [],
   "source": [
    "import cv2\n",
    "import numpy as np\n",
    "import matplotlib.pyplot as plt"
   ]
  },
  {
   "cell_type": "code",
   "execution_count": 26,
   "id": "272c8a28",
   "metadata": {},
   "outputs": [],
   "source": [
    "one = np.zeros((300,300,3),dtype='uint8')\n",
    "zero = np.zeros((300,300,3),dtype='uint8')"
   ]
  },
  {
   "cell_type": "code",
   "execution_count": 71,
   "id": "cc5a5b6d",
   "metadata": {},
   "outputs": [
    {
     "data": {
      "text/plain": [
       "<matplotlib.image.AxesImage at 0x25d0ad54a00>"
      ]
     },
     "execution_count": 71,
     "metadata": {},
     "output_type": "execute_result"
    },
    {
     "data": {
      "image/png": "[encoded data removed]",
      "text/plain": [
       "<Figure size 432x288 with 1 Axes>"
      ]
     },
     "metadata": {
      "needs_background": "light"
     },
     "output_type": "display_data"
    }
   ],
   "source": [
    "rec = cv2.circle(one,((one.shape[1]//2),(one.shape[0]//2)),100,[255,255,255],-1)\n",
    "plt.imshow(rec)"
   ]
  },
  {
   "cell_type": "code",
   "execution_count": 72,
   "id": "7883ad16",
   "metadata": {},
   "outputs": [
    {
     "data": {
      "text/plain": [
       "<matplotlib.image.AxesImage at 0x25d0ad924f0>"
      ]
     },
     "execution_count": 72,
     "metadata": {},
     "output_type": "execute_result"
    },
    {
     "data": {
      "image/png": "[encoded data removed]",
      "text/plain": [
       "<Figure size 432x288 with 1 Axes>"
      ]
     },
     "metadata": {
      "needs_background": "light"
     },
     "output_type": "display_data"
    }
   ],
   "source": [
    "rec1 = cv2.rectangle(zero,((one.shape[1]//2)-70,(one.shape[0]//2)-70),((one.shape[1]//2)+70,(one.shape[0]//2)+70),[255,255,255],-1)\n",
    "plt.imshow(rec1)"
   ]
  },
  {
   "cell_type": "code",
   "execution_count": 29,
   "id": "cf38b236",
   "metadata": {},
   "outputs": [],
   "source": [
    "a = cv2.bitwise_and(rec,rec1)\n",
    "a = cv2.bitwise_or(rec,rec1)\n",
    "a = cv2.bitwise_not(rec1)\n"
   ]
  },
  {
   "cell_type": "code",
   "execution_count": 30,
   "id": "4358e937",
   "metadata": {},
   "outputs": [
    {
     "data": {
      "text/plain": [
       "<matplotlib.image.AxesImage at 0x25d075e9eb0>"
      ]
     },
     "execution_count": 30,
     "metadata": {},
     "output_type": "execute_result"
    },
    {
     "data": {
      "image/png": "[encoded data removed]",
      "text/plain": [
       "<Figure size 432x288 with 1 Axes>"
      ]
     },
     "metadata": {
      "needs_background": "light"
     },
     "output_type": "display_data"
    }
   ],
   "source": [
    "plt.imshow(a)"
   ]
  },
  {
   "cell_type": "code",
   "execution_count": 104,
   "id": "22628034",
   "metadata": {},
   "outputs": [],
   "source": [
    "img = cv2.imread('./download.jfif')"
   ]
  },
  {
   "cell_type": "code",
   "execution_count": 105,
   "id": "afb6eba8",
   "metadata": {},
   "outputs": [],
   "source": [
    "a = np.zeros_like(img,dtype='uint8')"
   ]
  },
  {
   "cell_type": "code",
   "execution_count": 109,
   "id": "2c239ba1",
   "metadata": {},
   "outputs": [],
   "source": [
    "rec1 = cv2.rectangle(a,(a.shape[1]//2-70,one.shape[0]//2-70),(one.shape[1]//2+30,one.shape[0]//2+30),(255,255,255),-1)"
   ]
  },
  {
   "cell_type": "code",
   "execution_count": 110,
   "id": "ce234300",
   "metadata": {},
   "outputs": [],
   "source": [
    "# rec = cv2.circle(a,((one.shape[1]//2),(one.shape[0]//2)),100,[255,255,255],-1)"
   ]
  },
  {
   "cell_type": "code",
   "execution_count": 111,
   "id": "03c4fd37",
   "metadata": {},
   "outputs": [
    {
     "data": {
      "text/plain": [
       "<matplotlib.image.AxesImage at 0x25d0cc204f0>"
      ]
     },
     "execution_count": 111,
     "metadata": {},
     "output_type": "execute_result"
    },
    {
     "data": {
      "image/png": "[encoded data removed]",
      "text/plain": [
       "<Figure size 432x288 with 1 Axes>"
      ]
     },
     "metadata": {
      "needs_background": "light"
     },
     "output_type": "display_data"
    }
   ],
   "source": [
    "plt.imshow(rec1)"
   ]
  },
  {
   "cell_type": "code",
   "execution_count": 80,
   "id": "9b7a3e1a",
   "metadata": {},
   "outputs": [
    {
     "ename": "error",
     "evalue": "OpenCV(4.5.3) C:\\Users\\runneradmin\\AppData\\Local\\Temp\\pip-req-build-q3d_8t8e\\opencv\\modules\\core\\src\\arithm.cpp:230: error: (-215:Assertion failed) (mtype == CV_8U || mtype == CV_8S) && _mask.sameSize(*psrc1) in function 'cv::binary_op'\n",
     "output_type": "error",
     "traceback": [
      "\u001b[1;31m---------------------------------------------------------------------------\u001b[0m",
      "\u001b[1;31merror\u001b[0m                                     Traceback (most recent call last)",
      "\u001b[1;32m<ipython-input-80-d732986f5d85>\u001b[0m in \u001b[0;36m<module>\u001b[1;34m\u001b[0m\n\u001b[1;32m----> 1\u001b[1;33m \u001b[0mcv2\u001b[0m\u001b[1;33m.\u001b[0m\u001b[0mbitwise_and\u001b[0m\u001b[1;33m(\u001b[0m\u001b[0mimg\u001b[0m\u001b[1;33m,\u001b[0m\u001b[0mimg\u001b[0m\u001b[1;33m,\u001b[0m\u001b[0mmask\u001b[0m\u001b[1;33m=\u001b[0m\u001b[0mrec1\u001b[0m\u001b[1;33m)\u001b[0m\u001b[1;33m\u001b[0m\u001b[1;33m\u001b[0m\u001b[0m\n\u001b[0m",
      "\u001b[1;31merror\u001b[0m: OpenCV(4.5.3) C:\\Users\\runneradmin\\AppData\\Local\\Temp\\pip-req-build-q3d_8t8e\\opencv\\modules\\core\\src\\arithm.cpp:230: error: (-215:Assertion failed) (mtype == CV_8U || mtype == CV_8S) && _mask.sameSize(*psrc1) in function 'cv::binary_op'\n"
     ]
    }
   ],
   "source": [
    "cv2.bitwise_and(img,img,mask=rec1)"
   ]
  },
  {
   "cell_type": "code",
   "execution_count": 76,
   "id": "8dd04755",
   "metadata": {},
   "outputs": [
    {
     "data": {
      "text/plain": [
       "(183, 275, 3)"
      ]
     },
     "execution_count": 76,
     "metadata": {},
     "output_type": "execute_result"
    }
   ],
   "source": [
    "rec1.shape"
   ]
  },
  {
   "cell_type": "code",
   "execution_count": 77,
   "id": "b41ae816",
   "metadata": {},
   "outputs": [
    {
     "data": {
      "text/plain": [
       "(183, 275, 3)"
      ]
     },
     "execution_count": 77,
     "metadata": {},
     "output_type": "execute_result"
    }
   ],
   "source": [
    "img.shape"
   ]
  },
  {
   "cell_type": "code",
   "execution_count": null,
   "id": "e41412da",
   "metadata": {},
   "outputs": [],
   "source": []
  }
 ],
 "metadata": {
  "kernelspec": {
   "display_name": "Python 3",
   "language": "python",
   "name": "python3"
  },
  "language_info": {
   "codemirror_mode": {
    "name": "ipython",
    "version": 3
   },
   "file_extension": ".py",
   "mimetype": "text/x-python",
   "name": "python",
   "nbconvert_exporter": "python",
   "pygments_lexer": "ipython3",
   "version": "3.8.8"
  }
 },
 "nbformat": 4,
 "nbformat_minor": 5
}
