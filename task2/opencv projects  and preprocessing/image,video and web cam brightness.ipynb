{
 "cells": [
  {
   "cell_type": "code",
   "execution_count": 1,
   "id": "a4083755",
   "metadata": {},
   "outputs": [],
   "source": [
    "import cv2\n",
    "import numpy as np"
   ]
  },
  {
   "cell_type": "code",
   "execution_count": 2,
   "id": "a563079f",
   "metadata": {},
   "outputs": [],
   "source": [
    "img = cv2.imread('./download.jfif')"
   ]
  },
  {
   "cell_type": "code",
   "execution_count": 4,
   "id": "6354000d",
   "metadata": {},
   "outputs": [],
   "source": [
    "cv2.imshow('shifted_image',img)\n",
    "cv2.waitKey(0)\n",
    "cv2.destroyAllWindows() "
   ]
  },
  {
   "cell_type": "code",
   "execution_count": 5,
   "id": "5d9b8cca",
   "metadata": {},
   "outputs": [],
   "source": [
    "one = np.ones_like(img,dtype='uint8')*55"
   ]
  },
  {
   "cell_type": "code",
   "execution_count": 6,
   "id": "7ccbc033",
   "metadata": {},
   "outputs": [],
   "source": [
    "def bri_dark(img,b):\n",
    "    if b == 0:\n",
    "        image = cv2.add(img,one)\n",
    "        cv2.imshow('Added/brighted',image)\n",
    "        \n",
    "    if b == 1:\n",
    "        image1 = cv2.subtract(img,one)\n",
    "        cv2.imshow('Subtracted/Darked',image1)\n",
    "        \n",
    "    cv2.waitKey(0)\n",
    "    cv2.destroyAllWindows() "
   ]
  },
  {
   "cell_type": "code",
   "execution_count": 7,
   "id": "91383147",
   "metadata": {},
   "outputs": [],
   "source": [
    "def blend(img1,opacity1,img2,opacity2,brightness):\n",
    "    blended_image = cv2.addWeighted(img1,opacity1,img2,opacity2,brightness)\n",
    "    cv2.imshow('Blended Image',blended_image)\n",
    "    cv2.waitKey(0)\n",
    "    cv2.destroyAllWindows() \n",
    "    "
   ]
  },
  {
   "cell_type": "code",
   "execution_count": null,
   "id": "e57fb9aa",
   "metadata": {},
   "outputs": [],
   "source": []
  },
  {
   "cell_type": "code",
   "execution_count": null,
   "id": "031591d8",
   "metadata": {},
   "outputs": [],
   "source": []
  },
  {
   "cell_type": "code",
   "execution_count": 8,
   "id": "ae75ff1b",
   "metadata": {},
   "outputs": [],
   "source": [
    "\n",
    "def brightness_track_bar(img): \n",
    "    cv2.namedWindow('automatic')\n",
    "    cv2.createTrackbar('Brightness','automatic',127,255,lambda x:x)\n",
    "    one = np.ones_like(img,dtype='uint8')\n",
    "    while True:\n",
    "        bright = cv2.getTrackbarPos('Brightness','automatic')\n",
    "        bar = bright-127\n",
    "        if bar>=0:\n",
    "            brightness = one*bar\n",
    "            image = cv2.add(img,brightness)\n",
    "        if bar < 0:\n",
    "            bar = 127-bar\n",
    "            brightness = one*bar\n",
    "            image = cv2.subtract(img,brightness)\n",
    "        cv2.imshow('automatic',image)\n",
    "        if cv2.waitKey(31) == ord('q'):\n",
    "            break\n",
    "    cv2.destroyAllWindows() \n",
    "brightness_track_bar(img)"
   ]
  },
  {
   "cell_type": "code",
   "execution_count": 10,
   "id": "c2949f77",
   "metadata": {},
   "outputs": [],
   "source": [
    "def brightness_track_bar(vid): \n",
    "    cap = cv2.VideoCapture(vid)\n",
    "    cv2.namedWindow('automatic')\n",
    "    cv2.createTrackbar('Brightness','automatic',127,255,lambda x:x)\n",
    "#     one = np.ones_like(img,dtype='uint8')\n",
    "    while True:\n",
    "        ret,img = cap.read()\n",
    "        one = np.ones_like(img,dtype='uint8')\n",
    "        if ret == False:\n",
    "            break\n",
    "        bright = cv2.getTrackbarPos('Brightness','automatic')\n",
    "        bar = bright-127\n",
    "        if bar>=0:\n",
    "            brightness = one*bar\n",
    "            image = cv2.add(img,brightness)\n",
    "        if bar < 0:\n",
    "            bar = 127-bar\n",
    "            brightness = one*bar\n",
    "            image = cv2.subtract(img,brightness)\n",
    "        cv2.imshow('automatic',image)\n",
    "        if cv2.waitKey(31) == ord('q'):\n",
    "            break\n",
    "    cap.release()\n",
    "    cv2.destroyAllWindows()\n",
    "                                    \n",
    "video = r'C:\\Users\\SL LAPTOP\\Downloads\\test.mp4'\n",
    "brightness_track_bar(video)"
   ]
  },
  {
   "cell_type": "code",
   "execution_count": 15,
   "id": "98323023",
   "metadata": {},
   "outputs": [
    {
     "ename": "NameError",
     "evalue": "name 'cap' is not defined",
     "output_type": "error",
     "traceback": [
      "\u001b[1;31m---------------------------------------------------------------------------\u001b[0m",
      "\u001b[1;31mNameError\u001b[0m                                 Traceback (most recent call last)",
      "\u001b[1;32m<ipython-input-15-1cb4abca5511>\u001b[0m in \u001b[0;36m<module>\u001b[1;34m\u001b[0m\n\u001b[0;32m     26\u001b[0m \u001b[1;31m# video = r'C:\\Users\\SL LAPTOP\\Downloads\\test.mp4'\u001b[0m\u001b[1;33m\u001b[0m\u001b[1;33m\u001b[0m\u001b[1;33m\u001b[0m\u001b[0m\n\u001b[0;32m     27\u001b[0m \u001b[0mbrightness_track_bar\u001b[0m\u001b[1;33m(\u001b[0m\u001b[1;33m)\u001b[0m\u001b[1;33m\u001b[0m\u001b[1;33m\u001b[0m\u001b[0m\n\u001b[1;32m---> 28\u001b[1;33m \u001b[0mcap\u001b[0m\u001b[1;33m.\u001b[0m\u001b[0mrelease\u001b[0m\u001b[1;33m(\u001b[0m\u001b[1;33m)\u001b[0m\u001b[1;33m\u001b[0m\u001b[1;33m\u001b[0m\u001b[0m\n\u001b[0m\u001b[0;32m     29\u001b[0m \u001b[1;33m\u001b[0m\u001b[0m\n",
      "\u001b[1;31mNameError\u001b[0m: name 'cap' is not defined"
     ]
    }
   ],
   "source": [
    "def brightness_track_bar(): \n",
    "    cap = cv2.VideoCapture(0)\n",
    "    cv2.namedWindow('automatic')\n",
    "    cv2.createTrackbar('Brightness','automatic',127,255,lambda x:x)\n",
    "#     one = np.ones_like(img,dtype='uint8')\n",
    "    while True:\n",
    "        \n",
    "        ret,img = cap.read()\n",
    "        one = np.ones_like(img,dtype='uint8')\n",
    "        if ret == False:\n",
    "            break\n",
    "        bright = cv2.getTrackbarPos('Brightness','automatic')\n",
    "        bar = bright-127\n",
    "        if bar>=0:\n",
    "            brightness = one*bar\n",
    "            image = cv2.add(img,brightness)\n",
    "        if bar < 0:\n",
    "            bar = 127-bar\n",
    "            brightness = one*bar\n",
    "            image = cv2.subtract(img,brightness)\n",
    "        cv2.imshow('automatic',image)\n",
    "        if cv2.waitKey(31) == ord('q'):\n",
    "            break\n",
    "    cap.release()\n",
    "    cv2.destroyAllWindows()\n",
    "                                    \n",
    "# video = r'C:\\Users\\SL LAPTOP\\Downloads\\test.mp4'\n",
    "brightness_track_bar()\n",
    "# cap.release()\n",
    "\n"
   ]
  },
  {
   "cell_type": "code",
   "execution_count": null,
   "id": "dfe1f17c",
   "metadata": {},
   "outputs": [],
   "source": []
  }
 ],
 "metadata": {
  "kernelspec": {
   "display_name": "Python 3",
   "language": "python",
   "name": "python3"
  },
  "language_info": {
   "codemirror_mode": {
    "name": "ipython",
    "version": 3
   },
   "file_extension": ".py",
   "mimetype": "text/x-python",
   "name": "python",
   "nbconvert_exporter": "python",
   "pygments_lexer": "ipython3",
   "version": "3.8.8"
  }
 },
 "nbformat": 4,
 "nbformat_minor": 5
}
