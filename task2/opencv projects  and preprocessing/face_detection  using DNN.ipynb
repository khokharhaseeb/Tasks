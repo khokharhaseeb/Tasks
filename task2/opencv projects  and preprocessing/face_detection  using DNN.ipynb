{
 "cells": [
  {
   "cell_type": "code",
   "execution_count": 1,
   "id": "5bf71735",
   "metadata": {},
   "outputs": [],
   "source": [
    "import numpy as np\n",
    "import cv2"
   ]
  },
  {
   "cell_type": "code",
   "execution_count": 2,
   "id": "5e7ed40f",
   "metadata": {},
   "outputs": [
    {
     "data": {
      "text/plain": [
       "-1"
      ]
     },
     "execution_count": 2,
     "metadata": {},
     "output_type": "execute_result"
    }
   ],
   "source": [
    "img = cv2.imread('download.jfif')\n",
    "cv2.imshow('image',img)\n",
    "cv2.waitKey(0)\n",
    "# cv2.destroyAllwindows()"
   ]
  },
  {
   "cell_type": "code",
   "execution_count": 3,
   "id": "33171d25",
   "metadata": {},
   "outputs": [],
   "source": [
    "face_d_m = cv2.dnn.readNetFromCaffe('./caffe/deploy.prototxt.txt','./caffe/res10_300x300_ssd_iter_140000.caffemodel')   "
   ]
  },
  {
   "cell_type": "code",
   "execution_count": 4,
   "id": "e325640b",
   "metadata": {},
   "outputs": [],
   "source": [
    "#step 1 : blob from image\n",
    "blob = cv2.dnn.blobFromImage(img,1,(300,300),(104,177,123),swapRB =True)"
   ]
  },
  {
   "cell_type": "code",
   "execution_count": 5,
   "id": "b75b4c66",
   "metadata": {},
   "outputs": [],
   "source": [
    "# step-2:set blob as input\n",
    "face_d_m.setInput(blob)\n",
    "# get the output\n"
   ]
  },
  {
   "cell_type": "code",
   "execution_count": 6,
   "id": "568a3f69",
   "metadata": {},
   "outputs": [
    {
     "ename": "NameError",
     "evalue": "name 'detection' is not defined",
     "output_type": "error",
     "traceback": [
      "\u001b[1;31m---------------------------------------------------------------------------\u001b[0m",
      "\u001b[1;31mNameError\u001b[0m                                 Traceback (most recent call last)",
      "\u001b[1;32m<ipython-input-6-b9b49ab9e165>\u001b[0m in \u001b[0;36m<module>\u001b[1;34m\u001b[0m\n\u001b[1;32m----> 1\u001b[1;33m \u001b[0mdetection\u001b[0m\u001b[1;33m.\u001b[0m\u001b[0mshape\u001b[0m\u001b[1;33m\u001b[0m\u001b[1;33m\u001b[0m\u001b[0m\n\u001b[0m",
      "\u001b[1;31mNameError\u001b[0m: name 'detection' is not defined"
     ]
    }
   ],
   "source": [
    "detection.shape"
   ]
  },
  {
   "cell_type": "code",
   "execution_count": 7,
   "id": "53c50cff",
   "metadata": {},
   "outputs": [],
   "source": [
    "image = img.copy()"
   ]
  },
  {
   "cell_type": "code",
   "execution_count": 8,
   "id": "5453852e",
   "metadata": {},
   "outputs": [],
   "source": [
    "h,w = image.shape[:2]"
   ]
  },
  {
   "cell_type": "code",
   "execution_count": 9,
   "id": "6b704b0e",
   "metadata": {},
   "outputs": [],
   "source": [
    "face_d_m = cv2.dnn.readNetFromCaffe('./caffe/deploy.prototxt.txt','./caffe/res10_300x300_ssd_iter_140000.caffemodel')\n",
    "#step 1 : blob from image\n",
    "blob = cv2.dnn.blobFromImage(img,1,(300,300),(104,177,123),swapRB =True)\n",
    "face_d_m.setInput(blob)"
   ]
  },
  {
   "cell_type": "code",
   "execution_count": 10,
   "id": "9cbc778d",
   "metadata": {},
   "outputs": [],
   "source": [
    "\n",
    "\n",
    "def vide(frame):\n",
    "    blob = cv2.dnn.blobFromImage(frame,1,(300,300),(104,177,123),swapRB =True)\n",
    "    face_d_m.setInput(blob)\n",
    "    detection = face_d_m.forward()\n",
    "    h,w = frame.shape[:2]\n",
    "    for i in range(0,detection.shape[2]):\n",
    "        confidence = detection[0,0,i,2]\n",
    "        if confidence  >= 0.45:\n",
    "            print(confidence)\n",
    "            box = detection[0,0,i,3:7]\n",
    "    #         and we will denormalize it\n",
    "            box = box*np.array([w,h,w,h])\n",
    "    #         as open cv accepts integers walues but result values ar float so we will make them int\n",
    "            box = box.astype('int')\n",
    "            pt1 =(box[0],box[1])\n",
    "            pt2 =(box[2],box[3])\n",
    "            cv2.rectangle(frame,pt1,pt2,(0,255,0),2)\n",
    "            return frame\n",
    "# cap = cv2.VideoCapture()\n",
    "#             c = 'Score:{:.0f}'.format(confidence*100)\n",
    "#             cv2.putText(image,c,pt1,cv2.FONT_HERSHEY_SIMPLEX,1,(255,255,255),1)\n",
    "            \n",
    "# cv2.imshow('face',image)\n",
    "# cv2.waitKey(0)"
   ]
  },
  {
   "cell_type": "code",
   "execution_count": 11,
   "id": "bede3a9e",
   "metadata": {},
   "outputs": [
    {
     "ename": "error",
     "evalue": "OpenCV(4.5.3) C:\\Users\\runneradmin\\AppData\\Local\\Temp\\pip-req-build-q3d_8t8e\\opencv\\modules\\imgproc\\src\\color.cpp:182: error: (-215:Assertion failed) !_src.empty() in function 'cv::cvtColor'\n",
     "output_type": "error",
     "traceback": [
      "\u001b[1;31m---------------------------------------------------------------------------\u001b[0m",
      "\u001b[1;31merror\u001b[0m                                     Traceback (most recent call last)",
      "\u001b[1;32m<ipython-input-11-5f7842c7b67f>\u001b[0m in \u001b[0;36m<module>\u001b[1;34m\u001b[0m\n\u001b[0;32m      5\u001b[0m         \u001b[1;32mbreak\u001b[0m\u001b[1;33m\u001b[0m\u001b[1;33m\u001b[0m\u001b[0m\n\u001b[0;32m      6\u001b[0m     \u001b[0mvide_det\u001b[0m \u001b[1;33m=\u001b[0m \u001b[0mvide\u001b[0m\u001b[1;33m(\u001b[0m\u001b[0mframe\u001b[0m\u001b[1;33m)\u001b[0m\u001b[1;33m\u001b[0m\u001b[1;33m\u001b[0m\u001b[0m\n\u001b[1;32m----> 7\u001b[1;33m     \u001b[0mcv2\u001b[0m\u001b[1;33m.\u001b[0m\u001b[0mimshow\u001b[0m\u001b[1;33m(\u001b[0m\u001b[1;34m'video'\u001b[0m\u001b[1;33m,\u001b[0m\u001b[0mvide_det\u001b[0m\u001b[1;33m)\u001b[0m\u001b[1;33m\u001b[0m\u001b[1;33m\u001b[0m\u001b[0m\n\u001b[0m\u001b[0;32m      8\u001b[0m     \u001b[1;32mif\u001b[0m \u001b[0mcv2\u001b[0m\u001b[1;33m.\u001b[0m\u001b[0mwaitKey\u001b[0m\u001b[1;33m(\u001b[0m\u001b[1;36m1\u001b[0m\u001b[1;33m)\u001b[0m\u001b[1;33m==\u001b[0m\u001b[0mord\u001b[0m\u001b[1;33m(\u001b[0m\u001b[1;34m'q'\u001b[0m\u001b[1;33m)\u001b[0m\u001b[1;33m:\u001b[0m\u001b[1;33m\u001b[0m\u001b[1;33m\u001b[0m\u001b[0m\n\u001b[0;32m      9\u001b[0m         \u001b[1;32mbreak\u001b[0m\u001b[1;33m\u001b[0m\u001b[1;33m\u001b[0m\u001b[0m\n",
      "\u001b[1;31merror\u001b[0m: OpenCV(4.5.3) C:\\Users\\runneradmin\\AppData\\Local\\Temp\\pip-req-build-q3d_8t8e\\opencv\\modules\\imgproc\\src\\color.cpp:182: error: (-215:Assertion failed) !_src.empty() in function 'cv::cvtColor'\n"
     ]
    }
   ],
   "source": [
    "cap = cv2.VideoCapture(0)\n",
    "while True:\n",
    "    ret,frame = cap.read()\n",
    "    if ret == False:\n",
    "        break\n",
    "    vide_det = vide(frame)\n",
    "    cv2.imshow('video',vide_det)\n",
    "    if cv2.waitKey(1)==ord('q'):\n",
    "        break\n",
    "cap.release()"
   ]
  },
  {
   "cell_type": "code",
   "execution_count": null,
   "id": "a929397c",
   "metadata": {},
   "outputs": [],
   "source": []
  },
  {
   "cell_type": "code",
   "execution_count": 14,
   "id": "ae3c29dc",
   "metadata": {},
   "outputs": [
    {
     "data": {
      "text/plain": [
       "(1, 1, 200, 7)"
      ]
     },
     "execution_count": 14,
     "metadata": {},
     "output_type": "execute_result"
    }
   ],
   "source": [
    "detection.shape"
   ]
  },
  {
   "cell_type": "code",
   "execution_count": 15,
   "id": "24bec66e",
   "metadata": {},
   "outputs": [],
   "source": [
    "\n",
    "# Important\n",
    "# detection[0,0,i,'2  show confidence level and 3 to 7 shows bounding boxes']\n",
    "\n"
   ]
  },
  {
   "cell_type": "code",
   "execution_count": 34,
   "id": "5e170792",
   "metadata": {},
   "outputs": [
    {
     "data": {
      "text/plain": [
       "-1"
      ]
     },
     "execution_count": 34,
     "metadata": {},
     "output_type": "execute_result"
    }
   ],
   "source": [
    "cv2.imshow('im',image)\n",
    "cv2.waitKey(0)"
   ]
  },
  {
   "cell_type": "code",
   "execution_count": null,
   "id": "8d38cde3",
   "metadata": {},
   "outputs": [],
   "source": []
  }
 ],
 "metadata": {
  "kernelspec": {
   "display_name": "Python 3",
   "language": "python",
   "name": "python3"
  },
  "language_info": {
   "codemirror_mode": {
    "name": "ipython",
    "version": 3
   },
   "file_extension": ".py",
   "mimetype": "text/x-python",
   "name": "python",
   "nbconvert_exporter": "python",
   "pygments_lexer": "ipython3",
   "version": "3.8.8"
  }
 },
 "nbformat": 4,
 "nbformat_minor": 5
}
