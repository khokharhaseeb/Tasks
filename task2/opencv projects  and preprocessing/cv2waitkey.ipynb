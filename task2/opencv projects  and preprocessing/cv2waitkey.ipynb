{
 "cells": [
  {
   "cell_type": "code",
   "execution_count": 1,
   "id": "d7096c64",
   "metadata": {},
   "outputs": [],
   "source": [
    "import cv2\n",
    "import numpy as np"
   ]
  },
  {
   "cell_type": "code",
   "execution_count": 81,
   "id": "c5981b0f",
   "metadata": {},
   "outputs": [],
   "source": [
    "img=np.zeros((100,100,3),np.uint8)\n"
   ]
  },
  {
   "cell_type": "code",
   "execution_count": 82,
   "id": "c75dfb4a",
   "metadata": {},
   "outputs": [],
   "source": [
    "def display(*img):\n",
    "    for i,im in enumerate(img):\n",
    "        cv2.imshow(str(i),im)\n",
    "        cv2.waitKey(0)\n",
    "    cv2.destroyAllWindows()\n",
    "    "
   ]
  },
  {
   "cell_type": "code",
   "execution_count": 83,
   "id": "6952b4b1",
   "metadata": {},
   "outputs": [],
   "source": [
    "display(img)"
   ]
  },
  {
   "cell_type": "code",
   "execution_count": 94,
   "id": "79c9a960",
   "metadata": {},
   "outputs": [],
   "source": []
  },
  {
   "cell_type": "code",
   "execution_count": 95,
   "id": "fd476de5",
   "metadata": {},
   "outputs": [],
   "source": []
  },
  {
   "cell_type": "code",
   "execution_count": 96,
   "id": "2ec05425",
   "metadata": {},
   "outputs": [],
   "source": [
    "def display(img):\n",
    "    cv2.imshow('',img)\n",
    "    cv2.waitKey(0)\n",
    "    cv2.destroyAllWindows()"
   ]
  },
  {
   "cell_type": "code",
   "execution_count": 97,
   "id": "219ae933",
   "metadata": {},
   "outputs": [],
   "source": [
    "display(img)"
   ]
  },
  {
   "cell_type": "code",
   "execution_count": 120,
   "id": "5c3f94b0",
   "metadata": {},
   "outputs": [],
   "source": []
  },
  {
   "cell_type": "code",
   "execution_count": 123,
   "id": "3b76459b",
   "metadata": {},
   "outputs": [],
   "source": [
    "# mblur1 = cv2.medianBlur(gray,3)?\n",
    "k('./download.jfif',(5,5),0.5)"
   ]
  },
  {
   "cell_type": "code",
   "execution_count": 124,
   "id": "5b1539a3",
   "metadata": {},
   "outputs": [],
   "source": [
    "# a = img/dst\n",
    "def k(img,ksize):\n",
    "    cv2.WINDOW_NORMAL('yup')\n",
    "    gama = cv2.createTrackbar('gamma_value','yup',0.01,0.9,lambda x:x)\n",
    "    a = cv2.getTrackbarPos('gamma_value','yup')\n",
    "    img = cv2.imread(img)\n",
    "    gray = cv2.cvtColor(img,cv2.COLOR_BGR2GRAY)\n",
    "    blur = cv2.GaussianBlur(gray,ksize,cv2.BORDER_DEFAULT)\n",
    "    divide = cv2.divide(gray,blur,scale = 256)\n",
    "    if gama < 0:\n",
    "        raise 'gamma value cannot be less than 0'\n",
    "    if gama > 1:\n",
    "        raise 'gamma value cannot be greater than 1'\n",
    "    if gama == 0:\n",
    "        gama=0.01\n",
    "    invgama = 1/gama\n",
    "    lut = np.array([(((i/255)**invgama)*255) for i in range(0,256)])\n",
    "\n",
    "    a = cv2.LUT(divide.astype(np.uint8),lut.astype(np.uint8))\n",
    "    display(a)\n",
    "\n"
   ]
  },
  {
   "cell_type": "code",
   "execution_count": 111,
   "id": "0d8300cc",
   "metadata": {},
   "outputs": [],
   "source": [
    "display(divide)"
   ]
  },
  {
   "cell_type": "code",
   "execution_count": 149,
   "id": "a2665e08",
   "metadata": {},
   "outputs": [],
   "source": [
    "img = np.ones((500,500,3),dtype = 'uint8')"
   ]
  },
  {
   "cell_type": "code",
   "execution_count": 150,
   "id": "ccecda06",
   "metadata": {},
   "outputs": [],
   "source": [
    "img[:250,:250]=255"
   ]
  },
  {
   "cell_type": "code",
   "execution_count": 151,
   "id": "ae6e438e",
   "metadata": {},
   "outputs": [
    {
     "data": {
      "text/plain": [
       "<matplotlib.image.AxesImage at 0x20dd826f670>"
      ]
     },
     "execution_count": 151,
     "metadata": {},
     "output_type": "execute_result"
    },
    {
     "data": {
      "image/png": "[encoded data removed]",
      "text/plain": [
       "<Figure size 432x288 with 1 Axes>"
      ]
     },
     "metadata": {
      "needs_background": "light"
     },
     "output_type": "display_data"
    }
   ],
   "source": [
    "plt.imshow(img)"
   ]
  },
  {
   "cell_type": "code",
   "execution_count": 152,
   "id": "5a9bd73e",
   "metadata": {},
   "outputs": [
    {
     "ename": "TypeError",
     "evalue": "tuple indices must be integers or slices, not tuple",
     "output_type": "error",
     "traceback": [
      "\u001b[1;31m---------------------------------------------------------------------------\u001b[0m",
      "\u001b[1;31mTypeError\u001b[0m                                 Traceback (most recent call last)",
      "\u001b[1;32m<ipython-input-152-70ecc42f1929>\u001b[0m in \u001b[0;36m<module>\u001b[1;34m\u001b[0m\n\u001b[1;32m----> 1\u001b[1;33m \u001b[0ma\u001b[0m \u001b[1;33m=\u001b[0m \u001b[0mnp\u001b[0m\u001b[1;33m.\u001b[0m\u001b[0mwhere\u001b[0m\u001b[1;33m(\u001b[0m\u001b[0ma\u001b[0m\u001b[1;33m[\u001b[0m\u001b[1;33m:\u001b[0m\u001b[1;33m,\u001b[0m\u001b[1;33m:\u001b[0m\u001b[1;33m]\u001b[0m\u001b[1;33m==\u001b[0m\u001b[1;36m255\u001b[0m\u001b[1;33m)\u001b[0m\u001b[1;33m\u001b[0m\u001b[1;33m\u001b[0m\u001b[0m\n\u001b[0m",
      "\u001b[1;31mTypeError\u001b[0m: tuple indices must be integers or slices, not tuple"
     ]
    }
   ],
   "source": [
    "a = np.where(a[:,:]==255)"
   ]
  },
  {
   "cell_type": "code",
   "execution_count": 142,
   "id": "31a965a7",
   "metadata": {},
   "outputs": [],
   "source": []
  },
  {
   "cell_type": "code",
   "execution_count": 144,
   "id": "23e7947e",
   "metadata": {},
   "outputs": [],
   "source": [
    "display(img)"
   ]
  },
  {
   "cell_type": "code",
   "execution_count": 4,
   "id": "1887b98c",
   "metadata": {},
   "outputs": [],
   "source": [
    "im = cv2.imread('k.gif')"
   ]
  },
  {
   "cell_type": "code",
   "execution_count": 5,
   "id": "34cdbb88",
   "metadata": {},
   "outputs": [],
   "source": [
    "im"
   ]
  },
  {
   "cell_type": "code",
   "execution_count": null,
   "id": "be782b15",
   "metadata": {},
   "outputs": [],
   "source": []
  }
 ],
 "metadata": {
  "kernelspec": {
   "display_name": "Python 3",
   "language": "python",
   "name": "python3"
  },
  "language_info": {
   "codemirror_mode": {
    "name": "ipython",
    "version": 3
   },
   "file_extension": ".py",
   "mimetype": "text/x-python",
   "name": "python",
   "nbconvert_exporter": "python",
   "pygments_lexer": "ipython3",
   "version": "3.8.8"
  }
 },
 "nbformat": 4,
 "nbformat_minor": 5
}
