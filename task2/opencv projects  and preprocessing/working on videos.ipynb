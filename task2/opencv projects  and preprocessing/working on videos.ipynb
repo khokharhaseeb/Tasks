{
 "cells": [
  {
   "cell_type": "code",
   "execution_count": 1,
   "id": "680b68de",
   "metadata": {},
   "outputs": [],
   "source": [
    "import numpy as np\n",
    "import cv2\n",
    "import os"
   ]
  },
  {
   "cell_type": "code",
   "execution_count": 2,
   "id": "ac99d95a",
   "metadata": {},
   "outputs": [],
   "source": [
    "path = r'C:\\Users\\SL LAPTOP\\Downloads'\n",
    "for i in os.listdir(path):\n",
    "    y = os.path.join(path,'yt5s.com-Chocolate Mug Cake in 1 Minute _ Microwave Nutella Cake _ Em’s Kitchen(360p).mp4')\n",
    "    break"
   ]
  },
  {
   "cell_type": "code",
   "execution_count": 3,
   "id": "f53eb6c2",
   "metadata": {},
   "outputs": [],
   "source": [
    "cap = cv2.VideoCapture(y)\n",
    "import time"
   ]
  },
  {
   "cell_type": "code",
   "execution_count": 6,
   "id": "2e09bd20",
   "metadata": {},
   "outputs": [],
   "source": [
    "cap = cv2.VideoCapture(0)\n",
    "fps = 0\n",
    "while True:\n",
    "    start_time = time.time()\n",
    "    ret,frame=cap.read()\n",
    "    if ret == False:\n",
    "        break\n",
    "#         confusion\n",
    "    cv2.putText(frame,'fps: {:.0f}'.format(fps),(30,20),cv2.FONT_HERSHEY_SIMPLEX,1.5,(255,255,255),1)\n",
    "    cv2.imshow('vid',frame)\n",
    "   \n",
    "    if cv2.waitKey(1)==ord('q'):\n",
    "        break\n",
    "    end_time = time.time() - start_time \n",
    "    fps = 1/end_time\n",
    "cap.release()\n",
    "cv2.destroyAllWindows()"
   ]
  },
  {
   "cell_type": "code",
   "execution_count": 5,
   "id": "011885bd",
   "metadata": {},
   "outputs": [
    {
     "data": {
      "text/plain": [
       "<function putText>"
      ]
     },
     "execution_count": 5,
     "metadata": {},
     "output_type": "execute_result"
    }
   ],
   "source": [
    "cv2.putText"
   ]
  },
  {
   "cell_type": "code",
   "execution_count": null,
   "id": "2f987f2c",
   "metadata": {},
   "outputs": [],
   "source": []
  },
  {
   "cell_type": "code",
   "execution_count": null,
   "id": "6597ce24",
   "metadata": {},
   "outputs": [],
   "source": []
  }
 ],
 "metadata": {
  "kernelspec": {
   "display_name": "Python 3",
   "language": "python",
   "name": "python3"
  },
  "language_info": {
   "codemirror_mode": {
    "name": "ipython",
    "version": 3
   },
   "file_extension": ".py",
   "mimetype": "text/x-python",
   "name": "python",
   "nbconvert_exporter": "python",
   "pygments_lexer": "ipython3",
   "version": "3.8.8"
  }
 },
 "nbformat": 4,
 "nbformat_minor": 5
}
