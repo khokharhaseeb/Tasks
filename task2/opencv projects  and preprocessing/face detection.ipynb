{
 "cells": [
  {
   "cell_type": "code",
   "execution_count": 4,
   "id": "343eae2e",
   "metadata": {},
   "outputs": [],
   "source": [
    "import numpy as np\n",
    "import cv2"
   ]
  },
  {
   "cell_type": "code",
   "execution_count": 5,
   "id": "5cef96e0",
   "metadata": {},
   "outputs": [],
   "source": [
    "img = cv2.imread(r'C:\\Users\\SL LAPTOP\\Downloads\\sid.jfif')\n",
    "img = cv2.rotate(img, cv2.cv2.ROTATE_90_COUNTERCLOCKWISE)"
   ]
  },
  {
   "cell_type": "code",
   "execution_count": 3,
   "id": "4d494b8f",
   "metadata": {},
   "outputs": [],
   "source": [
    "cv2.imshow('faces',img)\n",
    "cv2.waitKey(0)\n",
    "cv2.destroyAllWindows()\n"
   ]
  },
  {
   "cell_type": "code",
   "execution_count": 6,
   "id": "3226fca5",
   "metadata": {},
   "outputs": [],
   "source": [
    "face_c = cv2.CascadeClassifier('h.xml')"
   ]
  },
  {
   "cell_type": "code",
   "execution_count": 7,
   "id": "301b14bf",
   "metadata": {},
   "outputs": [],
   "source": [
    "# step1 convert image to grayscale\n",
    "image = img.copy()"
   ]
  },
  {
   "cell_type": "code",
   "execution_count": 8,
   "id": "e7f4a176",
   "metadata": {},
   "outputs": [],
   "source": [
    "gray = cv2.cvtColor(img,cv2.COLOR_BGR2GRAY)\n",
    "image = img.copy"
   ]
  },
  {
   "cell_type": "code",
   "execution_count": 10,
   "id": "e1b855eb",
   "metadata": {},
   "outputs": [],
   "source": [
    "box,det = face_c.detectMultiScale2(gray,minNeighbors=8)\n"
   ]
  },
  {
   "cell_type": "code",
   "execution_count": 33,
   "id": "16f45fc4",
   "metadata": {},
   "outputs": [],
   "source": [
    "# if len(det) > 0 and det[0] >= 50:\n",
    "#             print('ok')\n",
    "x,y,w,h=box[0]\n",
    "# x1 = x1-30\n",
    "# x2 = x2+30\n",
    "# y1 = y1-30\n",
    "# y2 = y2+30\n",
    "# # img\n",
    "# print(x1,x2,x3,x4)\n",
    "# a = img[x1:x2,y1:y2]\n",
    "# for x,y,w,h in box:\n",
    "#     cv2.rectangle(img,(x-30,y-50),(x+w+30,y+h+30),(0,255,0),1)\n",
    "a = img[y-50:y+h+30,x-30:x+w+30]\n",
    "cv2.imshow('face detection',a)\n",
    "cv2.waitKey(0)\n",
    "cv2.destroyAllWindows()"
   ]
  },
  {
   "cell_type": "code",
   "execution_count": 27,
   "id": "6ef295c3",
   "metadata": {},
   "outputs": [],
   "source": [
    "cv2.imshow('face detection',img)\n",
    "cv2.waitKey(0)\n",
    "cv2.destroyAllWindows()"
   ]
  },
  {
   "cell_type": "code",
   "execution_count": 10,
   "id": "3f2591c2",
   "metadata": {},
   "outputs": [
    {
     "data": {
      "text/plain": [
       "array([[543, 605,  29,  29],\n",
       "       [777, 271, 163, 163]], dtype=int32)"
      ]
     },
     "execution_count": 10,
     "metadata": {},
     "output_type": "execute_result"
    }
   ],
   "source": [
    "box"
   ]
  },
  {
   "cell_type": "code",
   "execution_count": null,
   "id": "dee7b11f",
   "metadata": {},
   "outputs": [],
   "source": []
  },
  {
   "cell_type": "code",
   "execution_count": null,
   "id": "20437ce6",
   "metadata": {},
   "outputs": [],
   "source": []
  },
  {
   "cell_type": "code",
   "execution_count": null,
   "id": "55919263",
   "metadata": {},
   "outputs": [],
   "source": [
    "t = (1,[[11],33,0.3])"
   ]
  }
 ],
 "metadata": {
  "kernelspec": {
   "display_name": "Python 3",
   "language": "python",
   "name": "python3"
  },
  "language_info": {
   "codemirror_mode": {
    "name": "ipython",
    "version": 3
   },
   "file_extension": ".py",
   "mimetype": "text/x-python",
   "name": "python",
   "nbconvert_exporter": "python",
   "pygments_lexer": "ipython3",
   "version": "3.8.8"
  }
 },
 "nbformat": 4,
 "nbformat_minor": 5
}
